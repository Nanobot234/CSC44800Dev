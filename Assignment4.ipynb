{
 "cells": [
  {
   "cell_type": "markdown",
   "metadata": {},
   "source": [
    "<a href=https://colab.research.google.com/github/Nanobot234/CSC44800Dev/blob/master/Assignment4.ipynb>\n",
    "    <img src=\"https://colab.research.google.com/assets/colab-badge.svg\" alt=\"Open In Colab\"/>\n",
    "</a>"
   ]
  },
  {
   "cell_type": "code",
   "execution_count": 7,
   "metadata": {},
   "outputs": [
    {
     "name": "stdout",
     "output_type": "stream",
     "text": [
      "      0    1    2    3            4\n",
      "0   5.1  3.5  1.4  0.2  Iris-setosa\n",
      "1   4.9  3.0  1.4  0.2  Iris-setosa\n",
      "2   4.7  3.2  1.3  0.2  Iris-setosa\n",
      "3   4.6  3.1  1.5  0.2  Iris-setosa\n",
      "4   5.0  3.6  1.4  0.2  Iris-setosa\n",
      "5   5.4  3.9  1.7  0.4  Iris-setosa\n",
      "6   4.6  3.4  1.4  0.3  Iris-setosa\n",
      "7   5.0  3.4  1.5  0.2  Iris-setosa\n",
      "8   4.4  2.9  1.4  0.2  Iris-setosa\n",
      "9   4.9  3.1  1.5  0.1  Iris-setosa\n",
      "10  5.4  3.7  1.5  0.2  Iris-setosa\n",
      "11  4.8  3.4  1.6  0.2  Iris-setosa\n",
      "12  4.8  3.0  1.4  0.1  Iris-setosa\n",
      "13  4.3  3.0  1.1  0.1  Iris-setosa\n",
      "14  5.8  4.0  1.2  0.2  Iris-setosa\n"
     ]
    },
    {
     "data": {
      "text/html": [
       "<div>\n",
       "<style scoped>\n",
       "    .dataframe tbody tr th:only-of-type {\n",
       "        vertical-align: middle;\n",
       "    }\n",
       "\n",
       "    .dataframe tbody tr th {\n",
       "        vertical-align: top;\n",
       "    }\n",
       "\n",
       "    .dataframe thead th {\n",
       "        text-align: right;\n",
       "    }\n",
       "</style>\n",
       "<table border=\"1\" class=\"dataframe\">\n",
       "  <thead>\n",
       "    <tr style=\"text-align: right;\">\n",
       "      <th></th>\n",
       "      <th>0</th>\n",
       "      <th>1</th>\n",
       "      <th>2</th>\n",
       "      <th>3</th>\n",
       "    </tr>\n",
       "  </thead>\n",
       "  <tbody>\n",
       "    <tr>\n",
       "      <th>count</th>\n",
       "      <td>150.000000</td>\n",
       "      <td>150.000000</td>\n",
       "      <td>150.000000</td>\n",
       "      <td>150.000000</td>\n",
       "    </tr>\n",
       "    <tr>\n",
       "      <th>mean</th>\n",
       "      <td>5.843333</td>\n",
       "      <td>3.054000</td>\n",
       "      <td>3.758667</td>\n",
       "      <td>1.198667</td>\n",
       "    </tr>\n",
       "    <tr>\n",
       "      <th>std</th>\n",
       "      <td>0.828066</td>\n",
       "      <td>0.433594</td>\n",
       "      <td>1.764420</td>\n",
       "      <td>0.763161</td>\n",
       "    </tr>\n",
       "    <tr>\n",
       "      <th>min</th>\n",
       "      <td>4.300000</td>\n",
       "      <td>2.000000</td>\n",
       "      <td>1.000000</td>\n",
       "      <td>0.100000</td>\n",
       "    </tr>\n",
       "    <tr>\n",
       "      <th>25%</th>\n",
       "      <td>5.100000</td>\n",
       "      <td>2.800000</td>\n",
       "      <td>1.600000</td>\n",
       "      <td>0.300000</td>\n",
       "    </tr>\n",
       "    <tr>\n",
       "      <th>50%</th>\n",
       "      <td>5.800000</td>\n",
       "      <td>3.000000</td>\n",
       "      <td>4.350000</td>\n",
       "      <td>1.300000</td>\n",
       "    </tr>\n",
       "    <tr>\n",
       "      <th>75%</th>\n",
       "      <td>6.400000</td>\n",
       "      <td>3.300000</td>\n",
       "      <td>5.100000</td>\n",
       "      <td>1.800000</td>\n",
       "    </tr>\n",
       "    <tr>\n",
       "      <th>max</th>\n",
       "      <td>7.900000</td>\n",
       "      <td>4.400000</td>\n",
       "      <td>6.900000</td>\n",
       "      <td>2.500000</td>\n",
       "    </tr>\n",
       "  </tbody>\n",
       "</table>\n",
       "</div>"
      ],
      "text/plain": [
       "                0           1           2           3\n",
       "count  150.000000  150.000000  150.000000  150.000000\n",
       "mean     5.843333    3.054000    3.758667    1.198667\n",
       "std      0.828066    0.433594    1.764420    0.763161\n",
       "min      4.300000    2.000000    1.000000    0.100000\n",
       "25%      5.100000    2.800000    1.600000    0.300000\n",
       "50%      5.800000    3.000000    4.350000    1.300000\n",
       "75%      6.400000    3.300000    5.100000    1.800000\n",
       "max      7.900000    4.400000    6.900000    2.500000"
      ]
     },
     "execution_count": 7,
     "metadata": {},
     "output_type": "execute_result"
    }
   ],
   "source": [
    "import pandas as pd\n",
    "import numpy as np\n",
    "import ssl\n",
    "from sklearn.model_selection import train_test_split\n",
    "\n",
    "ssl._create_default_https_context = ssl._create_unverified_context #This was needed to allow me to load the github link(had to do with certificates)\n",
    "\n",
    "# Load the dataset (load remotely, not locally)\n",
    "irisdata = pd.read_csv('https://archive.ics.uci.edu/ml/machine-learning-databases/iris/iris.data', header = None)\n",
    "\n",
    "print(\"Idiot here\")\n",
    "# Output the first 15 rows of the data\n",
    "print(irisdata.head(15))\n",
    "\n",
    "# Display a summary of the table information (number of datapoints, etc.)\n",
    "irisdata.describe()"
   ]
  },
  {
   "cell_type": "code",
   "execution_count": 8,
   "metadata": {},
   "outputs": [],
   "source": [
    "# Take the dataset and split it into our features (X) and label (y)\n",
    "features_data = irisdata.iloc[0:150,0:3] \n",
    "label_data = irisdata.iloc[0:150,4]\n",
    "\n",
    "# Use sklearn to split the features and labels into a training/test set. (90% train, 10% test)\n",
    "X_train, X_test, y_train, y_test = train_test_split(features_data, label_data, train_size=0.9, test_size=0.10, random_state=50)\n",
    "\n"
   ]
  },
  {
   "cell_type": "code",
   "execution_count": 9,
   "metadata": {},
   "outputs": [
    {
     "name": "stdout",
     "output_type": "stream",
     "text": [
      "[[9.76515786e-01 2.34841452e-02 6.83940894e-08]]\n",
      "\n",
      "The score of the model is 0.9629629629629629\n",
      "\n",
      "The coefficients are [[-0.48984748  1.002315   -2.71534309]\n",
      " [ 0.62175835 -0.44496354 -0.59099226]\n",
      " [-0.13191087 -0.55735145  3.30633535]]\n",
      "Intercepts are [  9.52556011   2.22008875 -11.74564886]\n"
     ]
    }
   ],
   "source": [
    "from sklearn.linear_model import LogisticRegression\n",
    "\n",
    "\n",
    "# i. Use sklearn to train a LogisticRegression model on the training set\n",
    "logModel = LogisticRegression()\n",
    "\n",
    "logModel.fit(X_train,y_train)\n",
    "\n",
    "\n",
    "#for sample datapoint, predict proabilities of each class\n",
    "predicted = logModel.predict_proba([[5.1,3.5,1.4]])\n",
    "print(predicted)\n",
    "\n",
    "print()\n",
    "\n",
    "#Report the score\n",
    "print(\"The score of the model is {}\".format(logModel.score(X_train,y_train)))\n",
    "\n",
    "print()\n",
    "\n",
    "# iv. Extract the coefficents and intercepts for the boundary line(s)\n",
    "print(\"The coefficients are {}\".format(logModel.coef_))\n",
    "\n",
    "print(\"Intercepts are {}\".format(logModel.intercept_))\n",
    "\n"
   ]
  },
  {
   "cell_type": "markdown",
   "metadata": {},
   "source": [
    "The score for the logistic regression model tells us how accurate our model predicts the test data. This is a good indicator on the performance of the model\n"
   ]
  },
  {
   "cell_type": "code",
   "execution_count": 11,
   "metadata": {},
   "outputs": [
    {
     "name": "stdout",
     "output_type": "stream",
     "text": [
      "Probabilities:\n",
      "The score for the SVM model is 0.9333333333333333\n"
     ]
    }
   ],
   "source": [
    "from sklearn import svm\n",
    "\n",
    "\n",
    "# i. Use sklearn to train a Support Vector Classifier on the training set\n",
    "\n",
    "SVCClf = svm.SVC(probability=True)\n",
    "\n",
    "SVCClf.fit(X_train,y_train)\n",
    "\n",
    "# ii. For a sample datapoint, predict the probabilities for each possible class\n",
    "predictedProbs = SVCClf.predict_proba([[4.5,9.2,3.6]])\n",
    "\n",
    "print(\"Probabilities:\".format(predictedProbs))\n",
    "\n",
    "# iii. Report on the score for the SVM, what does the score measure?\n",
    "print(\"The score for the SVM model is {}\".format(SVCClf.score(X_test,y_test)))\n"
   ]
  },
  {
   "cell_type": "code",
   "execution_count": null,
   "metadata": {},
   "outputs": [],
   "source": [
    "from sklearn.neural_network import MLPClassifier\n",
    "\n",
    "\n",
    "# i. Use sklearn to train a Neural Network (MLP Classifier) on the training set\n",
    "\n",
    "nueralClf = MLPClassifier(max_iter=1000)\n",
    "\n",
    "nueralClf.fit(X_test,y_test)\n",
    "#6.3  2.5  5.0  1.9 \n",
    "# ii. For a sample datapoint, predict the probabilities for each possible class\n",
    "predicted = nueralClf.predict_proba([[6.5,2.5,5.0]])\n",
    "\n",
    "print(\"Predicted probability for each class is {}\".format(predicted))\n",
    "\n",
    "# iii. Report on the score for the Neural Network, what does the score measure?\n",
    "print(\"Socre for the Nueral Network is {}\".format(nueralClf.score(X_test,y_test)))\n",
    "# iv: Experiment with different options for the neural network, report on your best configuration (the highest score I was able to achieve was 0.8666)\n",
    "\n",
    "#EWhen changing the learning rate\n",
    "learningRateChange = MLPClassifier(learning_rate_init=0.43,learning_rate=\"adaptive\",max_iter=1000)\n",
    "\n",
    "learningRateChange.fit(X_test,y_test)\n",
    "\n",
    "print(learningRateChange.score(X_test,y_test))"
   ]
  },
  {
   "cell_type": "code",
   "execution_count": null,
   "metadata": {},
   "outputs": [],
   "source": [
    "\n",
    "# i. Use sklearn to 'train' a k-Neighbors Classifier\n",
    "# Note: KNN is a nonparametric model and technically doesn't require training\n",
    "# fit will essentially load the data into the model see link below for more information\n",
    "# https://stats.stackexchange.com/questions/349842/why-do-we-need-to-fit-a-k-nearest-neighbors-classifier\n",
    "\n",
    "\n",
    "\n",
    "# ii. For a sample datapoint, predict the probabilities for each possible class\n",
    "\n",
    "\n",
    "# iii. Report on the score for kNN, what does the score measure?"
   ]
  }
 ],
 "metadata": {
  "kernelspec": {
   "display_name": "Python 3 (ipykernel)",
   "language": "python",
   "name": "python3"
  },
  "language_info": {
   "codemirror_mode": {
    "name": "ipython",
    "version": 3
   },
   "file_extension": ".py",
   "mimetype": "text/x-python",
   "name": "python",
   "nbconvert_exporter": "python",
   "pygments_lexer": "ipython3",
   "version": "3.9.4"
  }
 },
 "nbformat": 4,
 "nbformat_minor": 2
}
