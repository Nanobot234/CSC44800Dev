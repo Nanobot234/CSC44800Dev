{
 "cells": [
  {
   "cell_type": "markdown",
   "id": "2961f7f3",
   "metadata": {},
   "source": [
    "<a href=\"https://colab.research.google.com/github/Nanobot234/CSC44800Dev/blob/master/HelloWorld.ipynb\" target=\"_parent\"><img src=\"https://colab.research.google.com/assets/colab-badge.svg\" alt=\"Open In Colab\"/></a>\n",
    "\n"
   ]
  },
  {
   "cell_type": "code",
   "execution_count": 1,
   "id": "0b06eb56",
   "metadata": {},
   "outputs": [
    {
     "name": "stdout",
     "output_type": "stream",
     "text": [
      "[[1, 2.09], [3, 4]]\n"
     ]
    }
   ],
   "source": [
    "\n",
    "def listto2D(data_list):\n",
    "  col = 2;\n",
    "  two_D_list = [data_list[x:x+col] for x in range(0,len(data_list),col)] \n",
    "  return two_D_list\n",
    "\n",
    "def projectionto1D(list2D,setindexes):\n",
    "\n",
    "  list1D = []\n",
    "  for x in setindexes:\n",
    "    if x < (len(list2D) -1):\n",
    "      list1D.append(list2D[x-1])\n",
    "  return list1D\n",
    "\n",
    "  \n",
    "listI = [1,2.09,3,4,5,6,'a',8,9,10.14,11,'b']\n",
    "listJ = {1,2,7}\n",
    "\n",
    "\n",
    "twoD = listto2D(listI)\n",
    "\n",
    "print(projectionto1D(twoD,listJ))"
   ]
  },
  {
   "cell_type": "code",
   "execution_count": null,
   "id": "51c5ee2e",
   "metadata": {},
   "outputs": [],
   "source": []
  }
 ],
 "metadata": {
  "kernelspec": {
   "display_name": "Python 3 (ipykernel)",
   "language": "python",
   "name": "python3"
  },
  "language_info": {
   "codemirror_mode": {
    "name": "ipython",
    "version": 3
   },
   "file_extension": ".py",
   "mimetype": "text/x-python",
   "name": "python",
   "nbconvert_exporter": "python",
   "pygments_lexer": "ipython3",
   "version": "3.9.4"
  }
 },
 "nbformat": 4,
 "nbformat_minor": 5
}
